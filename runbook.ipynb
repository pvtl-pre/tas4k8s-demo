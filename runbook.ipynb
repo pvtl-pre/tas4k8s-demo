{
 "cells": [
  {
   "cell_type": "markdown",
   "metadata": {},
   "source": [
    "# Runbook\n",
    "\n",
    "## Goals\n",
    "\n",
    "- Archecturual overview\n",
    "- Overview of Kubernetes Tools (k18s)\n",
    "- Setup and deployment of CF on a Kubernetes cluster\n",
    "- Deploy a sample app and how an application image is built\n",
    "- Review the changes made to K8S"
   ]
  }
 ],
 "metadata": {
  "kernelspec": {
   "display_name": "Z shell",
   "language": "zsh",
   "name": "zsh"
  },
  "language_info": {
   "codemirror_mode": "shell",
   "file_extension": ".zsh",
   "mimetype": "text/x-zsh",
   "name": "zsh",
   "pygments_lexer": "shell",
   "version": "5.7.1"
  }
 },
 "nbformat": 4,
 "nbformat_minor": 4
}
